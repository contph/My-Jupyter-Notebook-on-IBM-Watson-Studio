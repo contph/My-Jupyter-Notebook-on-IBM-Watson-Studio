{
 "cells": [
  {
   "cell_type": "markdown",
   "id": "fe3254e1-8f22-4532-9e62-0e0d5d51a72f",
   "metadata": {},
   "source": [
    "# My Jupyter Notebook on IBM Watson Studio"
   ]
  },
  {
   "cell_type": "code",
   "execution_count": null,
   "id": "4612a3b2-f124-44aa-bb0d-08a13e46e78a",
   "metadata": {},
   "outputs": [],
   "source": []
  },
  {
   "cell_type": "markdown",
   "id": "3e1e05ca-adbd-4eef-a796-46d9f7df81f4",
   "metadata": {},
   "source": [
    "**Paulo Henrique**"
   ]
  },
  {
   "cell_type": "markdown",
   "id": "ab307dd7-0b32-43ad-94c7-f53e5d34db33",
   "metadata": {},
   "source": [
    "*I'm interested in data science because I like to solve problems.*"
   ]
  },
  {
   "cell_type": "markdown",
   "id": "7fa95780-d2b5-4bb8-897a-0966413af064",
   "metadata": {},
   "source": [
    "### Solving a simple addition"
   ]
  },
  {
   "cell_type": "code",
   "execution_count": null,
   "id": "dd84bd4a-aedb-4c1e-9647-cfdf697c6704",
   "metadata": {},
   "outputs": [],
   "source": [
    "5 "
   ]
  }
 ],
 "metadata": {
  "kernelspec": {
   "display_name": "Python",
   "language": "python",
   "name": "conda-env-python-py"
  },
  "language_info": {
   "codemirror_mode": {
    "name": "ipython",
    "version": 3
   },
   "file_extension": ".py",
   "mimetype": "text/x-python",
   "name": "python",
   "nbconvert_exporter": "python",
   "pygments_lexer": "ipython3",
   "version": "3.7.12"
  }
 },
 "nbformat": 4,
 "nbformat_minor": 5
}
