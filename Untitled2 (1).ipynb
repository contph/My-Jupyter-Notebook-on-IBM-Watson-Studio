{
  "metadata": {
    "kernelspec": {
      "name": "python",
      "display_name": "Python (Pyodide)",
      "language": "python"
    },
    "language_info": {
      "codemirror_mode": {
        "name": "python",
        "version": 3
      },
      "file_extension": ".py",
      "mimetype": "text/x-python",
      "name": "python",
      "nbconvert_exporter": "python",
      "pygments_lexer": "ipython3",
      "version": "3.8"
    }
  },
  "nbformat_minor": 5,
  "nbformat": 4,
  "cells": [
    {
      "cell_type": "markdown",
      "source": "# My Jupyter Notebook on IBM Watson Studio",
      "metadata": {},
      "id": "fe3254e1-8f22-4532-9e62-0e0d5d51a72f"
    },
    {
      "cell_type": "markdown",
      "source": "**Paulo Henrique**",
      "metadata": {},
      "id": "3e1e05ca-adbd-4eef-a796-46d9f7df81f4"
    },
    {
      "cell_type": "markdown",
      "source": "*I'm interested in data science because I like to solve problems.*",
      "metadata": {},
      "id": "ab307dd7-0b32-43ad-94c7-f53e5d34db33"
    },
    {
      "cell_type": "markdown",
      "source": "### Solving a simple addition",
      "metadata": {},
      "id": "7fa95780-d2b5-4bb8-897a-0966413af064"
    },
    {
      "cell_type": "code",
      "source": "1 + 1",
      "metadata": {
        "trusted": true
      },
      "execution_count": 2,
      "outputs": [
        {
          "execution_count": 2,
          "output_type": "execute_result",
          "data": {
            "text/plain": "2"
          },
          "metadata": {}
        }
      ],
      "id": "dd84bd4a-aedb-4c1e-9647-cfdf697c6704"
    },
    {
      "cell_type": "markdown",
      "source": "- this is a bulletted list",
      "metadata": {},
      "id": "91821a75-c75e-4c80-99fb-f02a860fecb9"
    },
    {
      "cell_type": "markdown",
      "source": "- then <del>check</del> I add ",
      "metadata": {},
      "id": "c434d461-6d05-4295-abb0-81fe7a490583"
    },
    {
      "cell_type": "markdown",
      "source": "<hr>",
      "metadata": {},
      "id": "9d06845a-10da-48b5-8c69-82117a8b5d35"
    },
    {
      "cell_type": "markdown",
      "source": "with a horizontal line",
      "metadata": {},
      "id": "b2bde75e-7d5d-4991-a11d-2203f0dd112d"
    },
    {
      "cell_type": "markdown",
      "source": "> And I have a blockquote",
      "metadata": {},
      "id": "5047b3a2-25e7-4677-b31b-be674ace9e13"
    },
    {
      "cell_type": "markdown",
      "source": "Please check that I have checked all the boxes yet for some reason the peers always cut points.",
      "metadata": {},
      "id": "f6bdd40a-1b5c-446f-ab96-bc7c8fd02581"
    },
    {
      "cell_type": "code",
      "source": "",
      "metadata": {},
      "execution_count": null,
      "outputs": [],
      "id": "8b79ff44-76ac-4a60-b93c-000bf5d68efd"
    }
  ]
}